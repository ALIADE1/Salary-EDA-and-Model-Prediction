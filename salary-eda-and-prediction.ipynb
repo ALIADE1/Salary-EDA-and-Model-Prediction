{
 "cells": [
  {
   "cell_type": "markdown",
   "id": "74cbf560",
   "metadata": {
    "papermill": {
     "duration": 0.007119,
     "end_time": "2024-10-09T19:26:20.462030",
     "exception": false,
     "start_time": "2024-10-09T19:26:20.454911",
     "status": "completed"
    },
    "tags": []
   },
   "source": [
    "# <center><span style=\"font-size: 45px;\">SALARY EDA & PREDICTION</span></center>\n",
    "\n"
   ]
  },
  {
   "cell_type": "markdown",
   "id": "de9fe2dd",
   "metadata": {
    "_cell_guid": "b1076dfc-b9ad-4769-8c92-a6c4dae69d19",
    "_uuid": "8f2839f25d086af736a60e9eeb907d3b93b6e0e5",
    "papermill": {
     "duration": 0.005967,
     "end_time": "2024-10-09T19:26:20.474553",
     "exception": false,
     "start_time": "2024-10-09T19:26:20.468586",
     "status": "completed"
    },
    "tags": []
   },
   "source": [
    "<img src=\"https://news.clearancejobs.com/wp-content/uploads/2017/04/Salary-Stacks-Up-818x300-720x300.png\" alt=\"Image Description\" width=\"700\" height=\"300\">\n"
   ]
  },
  {
   "cell_type": "code",
   "execution_count": 1,
   "id": "a3131e43",
   "metadata": {
    "execution": {
     "iopub.execute_input": "2024-10-09T19:26:20.488743Z",
     "iopub.status.busy": "2024-10-09T19:26:20.488311Z",
     "iopub.status.idle": "2024-10-09T19:26:23.790363Z",
     "shell.execute_reply": "2024-10-09T19:26:23.789335Z"
    },
    "papermill": {
     "duration": 3.312544,
     "end_time": "2024-10-09T19:26:23.793236",
     "exception": false,
     "start_time": "2024-10-09T19:26:20.480692",
     "status": "completed"
    },
    "tags": []
   },
   "outputs": [],
   "source": [
    "#Importing Libraries\n",
    "import numpy as np \n",
    "import pandas as pd\n",
    "import matplotlib.pyplot as plt\n",
    "import seaborn as sns\n",
    "from sklearn.preprocessing import LabelEncoder\n",
    "from sklearn.preprocessing import StandardScaler\n",
    "from sklearn.model_selection import train_test_split\n",
    "from sklearn.linear_model import LinearRegression\n",
    "from sklearn.metrics import accuracy_score,r2_score"
   ]
  },
  {
   "cell_type": "code",
   "execution_count": 2,
   "id": "90be9ecb",
   "metadata": {
    "execution": {
     "iopub.execute_input": "2024-10-09T19:26:23.808358Z",
     "iopub.status.busy": "2024-10-09T19:26:23.807806Z",
     "iopub.status.idle": "2024-10-09T19:26:23.846539Z",
     "shell.execute_reply": "2024-10-09T19:26:23.845341Z"
    },
    "papermill": {
     "duration": 0.048776,
     "end_time": "2024-10-09T19:26:23.849028",
     "exception": false,
     "start_time": "2024-10-09T19:26:23.800252",
     "status": "completed"
    },
    "tags": []
   },
   "outputs": [
    {
     "data": {
      "text/html": [
       "<div>\n",
       "<style scoped>\n",
       "    .dataframe tbody tr th:only-of-type {\n",
       "        vertical-align: middle;\n",
       "    }\n",
       "\n",
       "    .dataframe tbody tr th {\n",
       "        vertical-align: top;\n",
       "    }\n",
       "\n",
       "    .dataframe thead th {\n",
       "        text-align: right;\n",
       "    }\n",
       "</style>\n",
       "<table border=\"1\" class=\"dataframe\">\n",
       "  <thead>\n",
       "    <tr style=\"text-align: right;\">\n",
       "      <th></th>\n",
       "      <th>Education</th>\n",
       "      <th>Experience</th>\n",
       "      <th>Location</th>\n",
       "      <th>Job_Title</th>\n",
       "      <th>Age</th>\n",
       "      <th>Gender</th>\n",
       "      <th>Salary</th>\n",
       "    </tr>\n",
       "  </thead>\n",
       "  <tbody>\n",
       "    <tr>\n",
       "      <th>0</th>\n",
       "      <td>High School</td>\n",
       "      <td>8</td>\n",
       "      <td>Urban</td>\n",
       "      <td>Manager</td>\n",
       "      <td>63</td>\n",
       "      <td>Male</td>\n",
       "      <td>84620.053665</td>\n",
       "    </tr>\n",
       "    <tr>\n",
       "      <th>1</th>\n",
       "      <td>PhD</td>\n",
       "      <td>11</td>\n",
       "      <td>Suburban</td>\n",
       "      <td>Director</td>\n",
       "      <td>59</td>\n",
       "      <td>Male</td>\n",
       "      <td>142591.255894</td>\n",
       "    </tr>\n",
       "    <tr>\n",
       "      <th>2</th>\n",
       "      <td>Bachelor</td>\n",
       "      <td>28</td>\n",
       "      <td>Suburban</td>\n",
       "      <td>Manager</td>\n",
       "      <td>61</td>\n",
       "      <td>Female</td>\n",
       "      <td>97800.255404</td>\n",
       "    </tr>\n",
       "    <tr>\n",
       "      <th>3</th>\n",
       "      <td>High School</td>\n",
       "      <td>29</td>\n",
       "      <td>Rural</td>\n",
       "      <td>Director</td>\n",
       "      <td>45</td>\n",
       "      <td>Male</td>\n",
       "      <td>96834.671282</td>\n",
       "    </tr>\n",
       "    <tr>\n",
       "      <th>4</th>\n",
       "      <td>PhD</td>\n",
       "      <td>25</td>\n",
       "      <td>Urban</td>\n",
       "      <td>Analyst</td>\n",
       "      <td>26</td>\n",
       "      <td>Female</td>\n",
       "      <td>132157.786175</td>\n",
       "    </tr>\n",
       "    <tr>\n",
       "      <th>5</th>\n",
       "      <td>PhD</td>\n",
       "      <td>19</td>\n",
       "      <td>Rural</td>\n",
       "      <td>Director</td>\n",
       "      <td>27</td>\n",
       "      <td>Female</td>\n",
       "      <td>156312.936208</td>\n",
       "    </tr>\n",
       "    <tr>\n",
       "      <th>6</th>\n",
       "      <td>PhD</td>\n",
       "      <td>4</td>\n",
       "      <td>Rural</td>\n",
       "      <td>Director</td>\n",
       "      <td>60</td>\n",
       "      <td>Female</td>\n",
       "      <td>130567.649455</td>\n",
       "    </tr>\n",
       "  </tbody>\n",
       "</table>\n",
       "</div>"
      ],
      "text/plain": [
       "     Education  Experience  Location Job_Title  Age  Gender         Salary\n",
       "0  High School           8     Urban   Manager   63    Male   84620.053665\n",
       "1          PhD          11  Suburban  Director   59    Male  142591.255894\n",
       "2     Bachelor          28  Suburban   Manager   61  Female   97800.255404\n",
       "3  High School          29     Rural  Director   45    Male   96834.671282\n",
       "4          PhD          25     Urban   Analyst   26  Female  132157.786175\n",
       "5          PhD          19     Rural  Director   27  Female  156312.936208\n",
       "6          PhD           4     Rural  Director   60  Female  130567.649455"
      ]
     },
     "execution_count": 2,
     "metadata": {},
     "output_type": "execute_result"
    }
   ],
   "source": [
    "#First 7 Rows of Data\n",
    "df = pd.read_csv('/kaggle/input/salary-prediction-data/salary_prediction_data.csv')\n",
    "df.head(7)"
   ]
  },
  {
   "cell_type": "code",
   "execution_count": 3,
   "id": "62464b35",
   "metadata": {
    "execution": {
     "iopub.execute_input": "2024-10-09T19:26:23.863937Z",
     "iopub.status.busy": "2024-10-09T19:26:23.863552Z",
     "iopub.status.idle": "2024-10-09T19:26:23.869001Z",
     "shell.execute_reply": "2024-10-09T19:26:23.867915Z"
    },
    "papermill": {
     "duration": 0.01653,
     "end_time": "2024-10-09T19:26:23.872240",
     "exception": false,
     "start_time": "2024-10-09T19:26:23.855710",
     "status": "completed"
    },
    "tags": []
   },
   "outputs": [
    {
     "name": "stdout",
     "output_type": "stream",
     "text": [
      "Shape of Data: (1000, 7)\n"
     ]
    }
   ],
   "source": [
    "sh = df.shape\n",
    "print(f\"Shape of Data: {sh}\")"
   ]
  },
  {
   "cell_type": "code",
   "execution_count": 4,
   "id": "c69ad1ed",
   "metadata": {
    "execution": {
     "iopub.execute_input": "2024-10-09T19:26:23.887255Z",
     "iopub.status.busy": "2024-10-09T19:26:23.886849Z",
     "iopub.status.idle": "2024-10-09T19:26:23.918213Z",
     "shell.execute_reply": "2024-10-09T19:26:23.916950Z"
    },
    "papermill": {
     "duration": 0.041612,
     "end_time": "2024-10-09T19:26:23.920617",
     "exception": false,
     "start_time": "2024-10-09T19:26:23.879005",
     "status": "completed"
    },
    "tags": []
   },
   "outputs": [
    {
     "name": "stdout",
     "output_type": "stream",
     "text": [
      "<class 'pandas.core.frame.DataFrame'>\n",
      "RangeIndex: 1000 entries, 0 to 999\n",
      "Data columns (total 7 columns):\n",
      " #   Column      Non-Null Count  Dtype  \n",
      "---  ------      --------------  -----  \n",
      " 0   Education   1000 non-null   object \n",
      " 1   Experience  1000 non-null   int64  \n",
      " 2   Location    1000 non-null   object \n",
      " 3   Job_Title   1000 non-null   object \n",
      " 4   Age         1000 non-null   int64  \n",
      " 5   Gender      1000 non-null   object \n",
      " 6   Salary      1000 non-null   float64\n",
      "dtypes: float64(1), int64(2), object(4)\n",
      "memory usage: 54.8+ KB\n"
     ]
    }
   ],
   "source": [
    "#Summary of the DataFrame\n",
    "df.info()"
   ]
  },
  {
   "cell_type": "code",
   "execution_count": 5,
   "id": "64d64063",
   "metadata": {
    "execution": {
     "iopub.execute_input": "2024-10-09T19:26:23.936319Z",
     "iopub.status.busy": "2024-10-09T19:26:23.935937Z",
     "iopub.status.idle": "2024-10-09T19:26:23.944628Z",
     "shell.execute_reply": "2024-10-09T19:26:23.943409Z"
    },
    "papermill": {
     "duration": 0.019309,
     "end_time": "2024-10-09T19:26:23.947033",
     "exception": false,
     "start_time": "2024-10-09T19:26:23.927724",
     "status": "completed"
    },
    "tags": []
   },
   "outputs": [
    {
     "name": "stdout",
     "output_type": "stream",
     "text": [
      "Data have 0 duplicated Row\n"
     ]
    }
   ],
   "source": [
    "dup = (df.duplicated()).sum()\n",
    "print(f\"Data have {dup} duplicated Row\")"
   ]
  },
  {
   "cell_type": "code",
   "execution_count": 6,
   "id": "ba2877b9",
   "metadata": {
    "execution": {
     "iopub.execute_input": "2024-10-09T19:26:23.962624Z",
     "iopub.status.busy": "2024-10-09T19:26:23.962234Z",
     "iopub.status.idle": "2024-10-09T19:26:23.971282Z",
     "shell.execute_reply": "2024-10-09T19:26:23.970256Z"
    },
    "papermill": {
     "duration": 0.019573,
     "end_time": "2024-10-09T19:26:23.973647",
     "exception": false,
     "start_time": "2024-10-09T19:26:23.954074",
     "status": "completed"
    },
    "tags": []
   },
   "outputs": [
    {
     "data": {
      "text/plain": [
       "Education     0\n",
       "Experience    0\n",
       "Location      0\n",
       "Job_Title     0\n",
       "Age           0\n",
       "Gender        0\n",
       "Salary        0\n",
       "dtype: int64"
      ]
     },
     "execution_count": 6,
     "metadata": {},
     "output_type": "execute_result"
    }
   ],
   "source": [
    "#Count the Num of Missing Values\n",
    "df.isna().sum()"
   ]
  },
  {
   "cell_type": "code",
   "execution_count": 7,
   "id": "bd84507b",
   "metadata": {
    "execution": {
     "iopub.execute_input": "2024-10-09T19:26:23.990188Z",
     "iopub.status.busy": "2024-10-09T19:26:23.989758Z",
     "iopub.status.idle": "2024-10-09T19:26:23.997799Z",
     "shell.execute_reply": "2024-10-09T19:26:23.996741Z"
    },
    "papermill": {
     "duration": 0.019428,
     "end_time": "2024-10-09T19:26:24.000386",
     "exception": false,
     "start_time": "2024-10-09T19:26:23.980958",
     "status": "completed"
    },
    "tags": []
   },
   "outputs": [
    {
     "data": {
      "text/plain": [
       "Education      object\n",
       "Experience      int64\n",
       "Location       object\n",
       "Job_Title      object\n",
       "Age             int64\n",
       "Gender         object\n",
       "Salary        float64\n",
       "dtype: object"
      ]
     },
     "execution_count": 7,
     "metadata": {},
     "output_type": "execute_result"
    }
   ],
   "source": [
    "#Returns Data Types of Columns\n",
    "df.dtypes"
   ]
  },
  {
   "cell_type": "code",
   "execution_count": 8,
   "id": "47b86f81",
   "metadata": {
    "execution": {
     "iopub.execute_input": "2024-10-09T19:26:24.019007Z",
     "iopub.status.busy": "2024-10-09T19:26:24.017944Z",
     "iopub.status.idle": "2024-10-09T19:26:24.041209Z",
     "shell.execute_reply": "2024-10-09T19:26:24.040169Z"
    },
    "papermill": {
     "duration": 0.035354,
     "end_time": "2024-10-09T19:26:24.044101",
     "exception": false,
     "start_time": "2024-10-09T19:26:24.008747",
     "status": "completed"
    },
    "tags": []
   },
   "outputs": [
    {
     "data": {
      "text/html": [
       "<div>\n",
       "<style scoped>\n",
       "    .dataframe tbody tr th:only-of-type {\n",
       "        vertical-align: middle;\n",
       "    }\n",
       "\n",
       "    .dataframe tbody tr th {\n",
       "        vertical-align: top;\n",
       "    }\n",
       "\n",
       "    .dataframe thead th {\n",
       "        text-align: right;\n",
       "    }\n",
       "</style>\n",
       "<table border=\"1\" class=\"dataframe\">\n",
       "  <thead>\n",
       "    <tr style=\"text-align: right;\">\n",
       "      <th></th>\n",
       "      <th>Experience</th>\n",
       "      <th>Age</th>\n",
       "      <th>Salary</th>\n",
       "    </tr>\n",
       "  </thead>\n",
       "  <tbody>\n",
       "    <tr>\n",
       "      <th>count</th>\n",
       "      <td>1000.000000</td>\n",
       "      <td>1000.000000</td>\n",
       "      <td>1000.000000</td>\n",
       "    </tr>\n",
       "    <tr>\n",
       "      <th>mean</th>\n",
       "      <td>14.771000</td>\n",
       "      <td>42.377000</td>\n",
       "      <td>105558.404239</td>\n",
       "    </tr>\n",
       "    <tr>\n",
       "      <th>std</th>\n",
       "      <td>8.341111</td>\n",
       "      <td>13.609412</td>\n",
       "      <td>28256.972075</td>\n",
       "    </tr>\n",
       "    <tr>\n",
       "      <th>min</th>\n",
       "      <td>1.000000</td>\n",
       "      <td>20.000000</td>\n",
       "      <td>33510.510669</td>\n",
       "    </tr>\n",
       "    <tr>\n",
       "      <th>25%</th>\n",
       "      <td>7.000000</td>\n",
       "      <td>30.000000</td>\n",
       "      <td>85032.141517</td>\n",
       "    </tr>\n",
       "    <tr>\n",
       "      <th>50%</th>\n",
       "      <td>15.000000</td>\n",
       "      <td>43.000000</td>\n",
       "      <td>104314.518315</td>\n",
       "    </tr>\n",
       "    <tr>\n",
       "      <th>75%</th>\n",
       "      <td>22.000000</td>\n",
       "      <td>55.000000</td>\n",
       "      <td>126804.047524</td>\n",
       "    </tr>\n",
       "    <tr>\n",
       "      <th>max</th>\n",
       "      <td>29.000000</td>\n",
       "      <td>64.000000</td>\n",
       "      <td>193016.602150</td>\n",
       "    </tr>\n",
       "  </tbody>\n",
       "</table>\n",
       "</div>"
      ],
      "text/plain": [
       "        Experience          Age         Salary\n",
       "count  1000.000000  1000.000000    1000.000000\n",
       "mean     14.771000    42.377000  105558.404239\n",
       "std       8.341111    13.609412   28256.972075\n",
       "min       1.000000    20.000000   33510.510669\n",
       "25%       7.000000    30.000000   85032.141517\n",
       "50%      15.000000    43.000000  104314.518315\n",
       "75%      22.000000    55.000000  126804.047524\n",
       "max      29.000000    64.000000  193016.602150"
      ]
     },
     "execution_count": 8,
     "metadata": {},
     "output_type": "execute_result"
    }
   ],
   "source": [
    "#Generates Descriptive Statistics\n",
    "df.describe()"
   ]
  },
  {
   "cell_type": "code",
   "execution_count": 9,
   "id": "048e7567",
   "metadata": {
    "execution": {
     "iopub.execute_input": "2024-10-09T19:26:24.061898Z",
     "iopub.status.busy": "2024-10-09T19:26:24.061538Z",
     "iopub.status.idle": "2024-10-09T19:26:24.270462Z",
     "shell.execute_reply": "2024-10-09T19:26:24.268867Z"
    },
    "papermill": {
     "duration": 0.222322,
     "end_time": "2024-10-09T19:26:24.274544",
     "exception": false,
     "start_time": "2024-10-09T19:26:24.052222",
     "status": "completed"
    },
    "tags": []
   },
   "outputs": [
    {
     "data": {
      "image/png": "[encoded data removed]",
      "text/plain": [
       "<Figure size 800x600 with 1 Axes>"
      ]
     },
     "metadata": {},
     "output_type": "display_data"
    }
   ],
   "source": [
    "siz = df[\"Gender\"].value_counts().tolist()\n",
    "val = df[\"Gender\"].unique().tolist()\n",
    "\n",
    "plt.figure(figsize=(8,6))\n",
    "plt.pie(siz,labels=val,autopct=\"%0.2f%%\",startangle=90)\n",
    "plt.title(\"Gender Relationship\",color=\"Maroon\")\n",
    "plt.show()"
   ]
  },
  {
   "cell_type": "code",
   "execution_count": 10,
   "id": "d933dee1",
   "metadata": {
    "execution": {
     "iopub.execute_input": "2024-10-09T19:26:24.308193Z",
     "iopub.status.busy": "2024-10-09T19:26:24.307794Z",
     "iopub.status.idle": "2024-10-09T19:26:24.646928Z",
     "shell.execute_reply": "2024-10-09T19:26:24.645772Z"
    },
    "papermill": {
     "duration": 0.357469,
     "end_time": "2024-10-09T19:26:24.649393",
     "exception": false,
     "start_time": "2024-10-09T19:26:24.291924",
     "status": "completed"
    },
    "tags": []
   },
   "outputs": [
    {
     "data": {
      "image/png": "[encoded data removed]",
      "text/plain": [
       "<Figure size 800x600 with 1 Axes>"
      ]
     },
     "metadata": {},
     "output_type": "display_data"
    }
   ],
   "source": [
    "x = df[\"Job_Title\"].value_counts().tolist()\n",
    "y = df[\"Job_Title\"].unique().tolist()\n",
    "\n",
    "\n",
    "plt.figure(figsize=(8, 6))  \n",
    "bars = plt.bar(y, x, color='skyblue')  \n",
    "plt.title('Job Title Distribution', color='olive', pad=20)  \n",
    "plt.xlabel('Job Title', color='olive') \n",
    "plt.ylabel('Frequency', color='olive')  \n",
    "for bar, value in zip(bars, x):\n",
    "    plt.text(bar.get_x() + bar.get_width() / 2, bar.get_height(), value,\n",
    "             ha='center', va='bottom', color='black')\n",
    "    \n",
    "plt.xticks(rotation=30) \n",
    "plt.tight_layout()  \n",
    "plt.show()"
   ]
  },
  {
   "cell_type": "code",
   "execution_count": 11,
   "id": "36f2bf90",
   "metadata": {
    "execution": {
     "iopub.execute_input": "2024-10-09T19:26:24.669330Z",
     "iopub.status.busy": "2024-10-09T19:26:24.668926Z",
     "iopub.status.idle": "2024-10-09T19:26:25.028354Z",
     "shell.execute_reply": "2024-10-09T19:26:25.027165Z"
    },
    "papermill": {
     "duration": 0.372377,
     "end_time": "2024-10-09T19:26:25.030907",
     "exception": false,
     "start_time": "2024-10-09T19:26:24.658530",
     "status": "completed"
    },
    "tags": []
   },
   "outputs": [
    {
     "data": {
      "text/plain": [
       "<Axes: >"
      ]
     },
     "execution_count": 11,
     "metadata": {},
     "output_type": "execute_result"
    },
    {
     "data": {
      "image/png": "[encoded data removed]",
      "text/plain": [
       "<Figure size 800x600 with 2 Axes>"
      ]
     },
     "metadata": {},
     "output_type": "display_data"
    }
   ],
   "source": [
    "corr = df[[\"Experience\",\"Age\",\"Salary\"]].corr()\n",
    "\n",
    "plt.figure(figsize=(8, 6))  \n",
    "sns.heatmap(corr,annot=True,cmap='coolwarm')"
   ]
  },
  {
   "cell_type": "code",
   "execution_count": 12,
   "id": "ea6a4514",
   "metadata": {
    "execution": {
     "iopub.execute_input": "2024-10-09T19:26:25.053604Z",
     "iopub.status.busy": "2024-10-09T19:26:25.053052Z",
     "iopub.status.idle": "2024-10-09T19:26:25.353312Z",
     "shell.execute_reply": "2024-10-09T19:26:25.352023Z"
    },
    "papermill": {
     "duration": 0.314378,
     "end_time": "2024-10-09T19:26:25.356228",
     "exception": false,
     "start_time": "2024-10-09T19:26:25.041850",
     "status": "completed"
    },
    "tags": []
   },
   "outputs": [
    {
     "data": {
      "image/png": "[encoded data removed]",
      "text/plain": [
       "<Figure size 800x600 with 1 Axes>"
      ]
     },
     "metadata": {},
     "output_type": "display_data"
    }
   ],
   "source": [
    "plt.figure(figsize=(8,6))\n",
    "df['Age'].plot(kind=\"hist\", bins=20, color='skyblue', edgecolor='black')\n",
    "\n",
    "plt.title('Distribution of Age',pad=17)\n",
    "plt.xlabel('Age')\n",
    "plt.ylabel('Frequency')\n",
    "plt.show()"
   ]
  },
  {
   "cell_type": "code",
   "execution_count": 13,
   "id": "a09275b2",
   "metadata": {
    "execution": {
     "iopub.execute_input": "2024-10-09T19:26:25.378542Z",
     "iopub.status.busy": "2024-10-09T19:26:25.378151Z",
     "iopub.status.idle": "2024-10-09T19:26:25.632488Z",
     "shell.execute_reply": "2024-10-09T19:26:25.631363Z"
    },
    "papermill": {
     "duration": 0.268718,
     "end_time": "2024-10-09T19:26:25.635256",
     "exception": false,
     "start_time": "2024-10-09T19:26:25.366538",
     "status": "completed"
    },
    "tags": []
   },
   "outputs": [
    {
     "data": {
      "image/png": "[encoded data removed]",
      "text/plain": [
       "<Figure size 800x600 with 1 Axes>"
      ]
     },
     "metadata": {},
     "output_type": "display_data"
    }
   ],
   "source": [
    "plt.figure(figsize=(8,6))\n",
    "df['Salary'].plot(kind=\"box\", color='teal', vert=False)\n",
    "\n",
    "plt.title('Distribution of Salary', pad=17, color=\"navy\")\n",
    "plt.xlabel('Salary', color=\"navy\", labelpad=17)\n",
    "plt.ylabel('Frequency', color=\"navy\", labelpad=17)\n",
    "plt.show()\n"
   ]
  },
  {
   "cell_type": "code",
   "execution_count": 14,
   "id": "cf1579c1",
   "metadata": {
    "execution": {
     "iopub.execute_input": "2024-10-09T19:26:25.660412Z",
     "iopub.status.busy": "2024-10-09T19:26:25.659969Z",
     "iopub.status.idle": "2024-10-09T19:26:25.680657Z",
     "shell.execute_reply": "2024-10-09T19:26:25.679455Z"
    },
    "papermill": {
     "duration": 0.035504,
     "end_time": "2024-10-09T19:26:25.683122",
     "exception": false,
     "start_time": "2024-10-09T19:26:25.647618",
     "status": "completed"
    },
    "tags": []
   },
   "outputs": [
    {
     "data": {
      "text/html": [
       "<div>\n",
       "<style scoped>\n",
       "    .dataframe tbody tr th:only-of-type {\n",
       "        vertical-align: middle;\n",
       "    }\n",
       "\n",
       "    .dataframe tbody tr th {\n",
       "        vertical-align: top;\n",
       "    }\n",
       "\n",
       "    .dataframe thead th {\n",
       "        text-align: right;\n",
       "    }\n",
       "</style>\n",
       "<table border=\"1\" class=\"dataframe\">\n",
       "  <thead>\n",
       "    <tr style=\"text-align: right;\">\n",
       "      <th></th>\n",
       "      <th>Education</th>\n",
       "      <th>Experience</th>\n",
       "      <th>Location</th>\n",
       "      <th>Job_Title</th>\n",
       "      <th>Age</th>\n",
       "      <th>Gender</th>\n",
       "      <th>Salary</th>\n",
       "    </tr>\n",
       "  </thead>\n",
       "  <tbody>\n",
       "    <tr>\n",
       "      <th>0</th>\n",
       "      <td>1</td>\n",
       "      <td>8</td>\n",
       "      <td>2</td>\n",
       "      <td>3</td>\n",
       "      <td>63</td>\n",
       "      <td>1</td>\n",
       "      <td>84620.053665</td>\n",
       "    </tr>\n",
       "    <tr>\n",
       "      <th>1</th>\n",
       "      <td>3</td>\n",
       "      <td>11</td>\n",
       "      <td>1</td>\n",
       "      <td>1</td>\n",
       "      <td>59</td>\n",
       "      <td>1</td>\n",
       "      <td>142591.255894</td>\n",
       "    </tr>\n",
       "    <tr>\n",
       "      <th>2</th>\n",
       "      <td>0</td>\n",
       "      <td>28</td>\n",
       "      <td>1</td>\n",
       "      <td>3</td>\n",
       "      <td>61</td>\n",
       "      <td>0</td>\n",
       "      <td>97800.255404</td>\n",
       "    </tr>\n",
       "    <tr>\n",
       "      <th>3</th>\n",
       "      <td>1</td>\n",
       "      <td>29</td>\n",
       "      <td>0</td>\n",
       "      <td>1</td>\n",
       "      <td>45</td>\n",
       "      <td>1</td>\n",
       "      <td>96834.671282</td>\n",
       "    </tr>\n",
       "    <tr>\n",
       "      <th>4</th>\n",
       "      <td>3</td>\n",
       "      <td>25</td>\n",
       "      <td>2</td>\n",
       "      <td>0</td>\n",
       "      <td>26</td>\n",
       "      <td>0</td>\n",
       "      <td>132157.786175</td>\n",
       "    </tr>\n",
       "    <tr>\n",
       "      <th>5</th>\n",
       "      <td>3</td>\n",
       "      <td>19</td>\n",
       "      <td>0</td>\n",
       "      <td>1</td>\n",
       "      <td>27</td>\n",
       "      <td>0</td>\n",
       "      <td>156312.936208</td>\n",
       "    </tr>\n",
       "    <tr>\n",
       "      <th>6</th>\n",
       "      <td>3</td>\n",
       "      <td>4</td>\n",
       "      <td>0</td>\n",
       "      <td>1</td>\n",
       "      <td>60</td>\n",
       "      <td>0</td>\n",
       "      <td>130567.649455</td>\n",
       "    </tr>\n",
       "    <tr>\n",
       "      <th>7</th>\n",
       "      <td>3</td>\n",
       "      <td>13</td>\n",
       "      <td>1</td>\n",
       "      <td>1</td>\n",
       "      <td>49</td>\n",
       "      <td>0</td>\n",
       "      <td>148707.740759</td>\n",
       "    </tr>\n",
       "    <tr>\n",
       "      <th>8</th>\n",
       "      <td>0</td>\n",
       "      <td>20</td>\n",
       "      <td>2</td>\n",
       "      <td>2</td>\n",
       "      <td>25</td>\n",
       "      <td>0</td>\n",
       "      <td>95945.275429</td>\n",
       "    </tr>\n",
       "    <tr>\n",
       "      <th>9</th>\n",
       "      <td>3</td>\n",
       "      <td>14</td>\n",
       "      <td>2</td>\n",
       "      <td>0</td>\n",
       "      <td>58</td>\n",
       "      <td>0</td>\n",
       "      <td>133339.389682</td>\n",
       "    </tr>\n",
       "  </tbody>\n",
       "</table>\n",
       "</div>"
      ],
      "text/plain": [
       "   Education  Experience  Location  Job_Title  Age  Gender         Salary\n",
       "0          1           8         2          3   63       1   84620.053665\n",
       "1          3          11         1          1   59       1  142591.255894\n",
       "2          0          28         1          3   61       0   97800.255404\n",
       "3          1          29         0          1   45       1   96834.671282\n",
       "4          3          25         2          0   26       0  132157.786175\n",
       "5          3          19         0          1   27       0  156312.936208\n",
       "6          3           4         0          1   60       0  130567.649455\n",
       "7          3          13         1          1   49       0  148707.740759\n",
       "8          0          20         2          2   25       0   95945.275429\n",
       "9          3          14         2          0   58       0  133339.389682"
      ]
     },
     "execution_count": 14,
     "metadata": {},
     "output_type": "execute_result"
    }
   ],
   "source": [
    "df['Gender'] = LabelEncoder().fit_transform(df[\"Gender\"])\n",
    "df['Job_Title'] = LabelEncoder().fit_transform(df[\"Job_Title\"])\n",
    "df['Education'] = LabelEncoder().fit_transform(df[\"Education\"])\n",
    "df['Location'] = LabelEncoder().fit_transform(df[\"Location\"])\n",
    "\n",
    "df.head(10)"
   ]
  },
  {
   "cell_type": "code",
   "execution_count": 15,
   "id": "686d6084",
   "metadata": {
    "execution": {
     "iopub.execute_input": "2024-10-09T19:26:25.707224Z",
     "iopub.status.busy": "2024-10-09T19:26:25.706467Z",
     "iopub.status.idle": "2024-10-09T19:26:25.736218Z",
     "shell.execute_reply": "2024-10-09T19:26:25.735010Z"
    },
    "papermill": {
     "duration": 0.044714,
     "end_time": "2024-10-09T19:26:25.738903",
     "exception": false,
     "start_time": "2024-10-09T19:26:25.694189",
     "status": "completed"
    },
    "tags": []
   },
   "outputs": [
    {
     "data": {
      "text/html": [
       "<div>\n",
       "<style scoped>\n",
       "    .dataframe tbody tr th:only-of-type {\n",
       "        vertical-align: middle;\n",
       "    }\n",
       "\n",
       "    .dataframe tbody tr th {\n",
       "        vertical-align: top;\n",
       "    }\n",
       "\n",
       "    .dataframe thead th {\n",
       "        text-align: right;\n",
       "    }\n",
       "</style>\n",
       "<table border=\"1\" class=\"dataframe\">\n",
       "  <thead>\n",
       "    <tr style=\"text-align: right;\">\n",
       "      <th></th>\n",
       "      <th>Education</th>\n",
       "      <th>Experience</th>\n",
       "      <th>Location</th>\n",
       "      <th>Job_Title</th>\n",
       "      <th>Age</th>\n",
       "      <th>Gender</th>\n",
       "      <th>Salary</th>\n",
       "    </tr>\n",
       "  </thead>\n",
       "  <tbody>\n",
       "    <tr>\n",
       "      <th>0</th>\n",
       "      <td>1</td>\n",
       "      <td>-0.812169</td>\n",
       "      <td>2</td>\n",
       "      <td>3</td>\n",
       "      <td>1.516107</td>\n",
       "      <td>1</td>\n",
       "      <td>-0.741368</td>\n",
       "    </tr>\n",
       "    <tr>\n",
       "      <th>1</th>\n",
       "      <td>3</td>\n",
       "      <td>-0.452324</td>\n",
       "      <td>1</td>\n",
       "      <td>1</td>\n",
       "      <td>1.222045</td>\n",
       "      <td>1</td>\n",
       "      <td>1.311230</td>\n",
       "    </tr>\n",
       "    <tr>\n",
       "      <th>2</th>\n",
       "      <td>0</td>\n",
       "      <td>1.586793</td>\n",
       "      <td>1</td>\n",
       "      <td>3</td>\n",
       "      <td>1.369076</td>\n",
       "      <td>0</td>\n",
       "      <td>-0.274694</td>\n",
       "    </tr>\n",
       "    <tr>\n",
       "      <th>3</th>\n",
       "      <td>1</td>\n",
       "      <td>1.706741</td>\n",
       "      <td>0</td>\n",
       "      <td>1</td>\n",
       "      <td>0.192831</td>\n",
       "      <td>1</td>\n",
       "      <td>-0.308883</td>\n",
       "    </tr>\n",
       "    <tr>\n",
       "      <th>4</th>\n",
       "      <td>3</td>\n",
       "      <td>1.226949</td>\n",
       "      <td>2</td>\n",
       "      <td>0</td>\n",
       "      <td>-1.203961</td>\n",
       "      <td>0</td>\n",
       "      <td>0.941810</td>\n",
       "    </tr>\n",
       "  </tbody>\n",
       "</table>\n",
       "</div>"
      ],
      "text/plain": [
       "   Education  Experience  Location  Job_Title       Age  Gender    Salary\n",
       "0          1   -0.812169         2          3  1.516107       1 -0.741368\n",
       "1          3   -0.452324         1          1  1.222045       1  1.311230\n",
       "2          0    1.586793         1          3  1.369076       0 -0.274694\n",
       "3          1    1.706741         0          1  0.192831       1 -0.308883\n",
       "4          3    1.226949         2          0 -1.203961       0  0.941810"
      ]
     },
     "execution_count": 15,
     "metadata": {},
     "output_type": "execute_result"
    }
   ],
   "source": [
    "df[\"Age\"] = StandardScaler().fit_transform(df[[\"Age\"]])\n",
    "df[\"Salary\"] = StandardScaler().fit_transform(df[[\"Salary\"]])\n",
    "df[\"Experience\"] = StandardScaler().fit_transform(df[[\"Experience\"]])\n",
    "\n",
    "df.head()"
   ]
  },
  {
   "cell_type": "code",
   "execution_count": 16,
   "id": "f00e8aad",
   "metadata": {
    "execution": {
     "iopub.execute_input": "2024-10-09T19:26:25.763528Z",
     "iopub.status.busy": "2024-10-09T19:26:25.763117Z",
     "iopub.status.idle": "2024-10-09T19:26:25.775062Z",
     "shell.execute_reply": "2024-10-09T19:26:25.773942Z"
    },
    "papermill": {
     "duration": 0.027329,
     "end_time": "2024-10-09T19:26:25.777705",
     "exception": false,
     "start_time": "2024-10-09T19:26:25.750376",
     "status": "completed"
    },
    "tags": []
   },
   "outputs": [],
   "source": [
    "#Splitting Data into Training & Testing\n",
    "X = df[[\"Experience\",\"Job_Title\",\"Age\",\"Gender\",\"Education\",\"Location\"]]\n",
    "Y = df[\"Salary\"]\n",
    "\n",
    "\n",
    "x_train, x_test, y_train, y_test = train_test_split(X,Y,test_size=0.2,random_state=42)"
   ]
  },
  {
   "cell_type": "code",
   "execution_count": 17,
   "id": "cf84bfd1",
   "metadata": {
    "execution": {
     "iopub.execute_input": "2024-10-09T19:26:25.803155Z",
     "iopub.status.busy": "2024-10-09T19:26:25.802721Z",
     "iopub.status.idle": "2024-10-09T19:26:25.843577Z",
     "shell.execute_reply": "2024-10-09T19:26:25.842340Z"
    },
    "papermill": {
     "duration": 0.056749,
     "end_time": "2024-10-09T19:26:25.846070",
     "exception": false,
     "start_time": "2024-10-09T19:26:25.789321",
     "status": "completed"
    },
    "tags": []
   },
   "outputs": [
    {
     "data": {
      "text/html": [
       "<style>#sk-container-id-1 {color: black;background-color: white;}#sk-container-id-1 pre{padding: 0;}#sk-container-id-1 div.sk-toggleable {background-color: white;}#sk-container-id-1 label.sk-toggleable__label {cursor: pointer;display: block;width: 100%;margin-bottom: 0;padding: 0.3em;box-sizing: border-box;text-align: center;}#sk-container-id-1 label.sk-toggleable__label-arrow:before {content: \"▸\";float: left;margin-right: 0.25em;color: #696969;}#sk-container-id-1 label.sk-toggleable__label-arrow:hover:before {color: black;}#sk-container-id-1 div.sk-estimator:hover label.sk-toggleable__label-arrow:before {color: black;}#sk-container-id-1 div.sk-toggleable__content {max-height: 0;max-width: 0;overflow: hidden;text-align: left;background-color: #f0f8ff;}#sk-container-id-1 div.sk-toggleable__content pre {margin: 0.2em;color: black;border-radius: 0.25em;background-color: #f0f8ff;}#sk-container-id-1 input.sk-toggleable__control:checked~div.sk-toggleable__content {max-height: 200px;max-width: 100%;overflow: auto;}#sk-container-id-1 input.sk-toggleable__control:checked~label.sk-toggleable__label-arrow:before {content: \"▾\";}#sk-container-id-1 div.sk-estimator input.sk-toggleable__control:checked~label.sk-toggleable__label {background-color: #d4ebff;}#sk-container-id-1 div.sk-label input.sk-toggleable__control:checked~label.sk-toggleable__label {background-color: #d4ebff;}#sk-container-id-1 input.sk-hidden--visually {border: 0;clip: rect(1px 1px 1px 1px);clip: rect(1px, 1px, 1px, 1px);height: 1px;margin: -1px;overflow: hidden;padding: 0;position: absolute;width: 1px;}#sk-container-id-1 div.sk-estimator {font-family: monospace;background-color: #f0f8ff;border: 1px dotted black;border-radius: 0.25em;box-sizing: border-box;margin-bottom: 0.5em;}#sk-container-id-1 div.sk-estimator:hover {background-color: #d4ebff;}#sk-container-id-1 div.sk-parallel-item::after {content: \"\";width: 100%;border-bottom: 1px solid gray;flex-grow: 1;}#sk-container-id-1 div.sk-label:hover label.sk-toggleable__label {background-color: #d4ebff;}#sk-container-id-1 div.sk-serial::before {content: \"\";position: absolute;border-left: 1px solid gray;box-sizing: border-box;top: 0;bottom: 0;left: 50%;z-index: 0;}#sk-container-id-1 div.sk-serial {display: flex;flex-direction: column;align-items: center;background-color: white;padding-right: 0.2em;padding-left: 0.2em;position: relative;}#sk-container-id-1 div.sk-item {position: relative;z-index: 1;}#sk-container-id-1 div.sk-parallel {display: flex;align-items: stretch;justify-content: center;background-color: white;position: relative;}#sk-container-id-1 div.sk-item::before, #sk-container-id-1 div.sk-parallel-item::before {content: \"\";position: absolute;border-left: 1px solid gray;box-sizing: border-box;top: 0;bottom: 0;left: 50%;z-index: -1;}#sk-container-id-1 div.sk-parallel-item {display: flex;flex-direction: column;z-index: 1;position: relative;background-color: white;}#sk-container-id-1 div.sk-parallel-item:first-child::after {align-self: flex-end;width: 50%;}#sk-container-id-1 div.sk-parallel-item:last-child::after {align-self: flex-start;width: 50%;}#sk-container-id-1 div.sk-parallel-item:only-child::after {width: 0;}#sk-container-id-1 div.sk-dashed-wrapped {border: 1px dashed gray;margin: 0 0.4em 0.5em 0.4em;box-sizing: border-box;padding-bottom: 0.4em;background-color: white;}#sk-container-id-1 div.sk-label label {font-family: monospace;font-weight: bold;display: inline-block;line-height: 1.2em;}#sk-container-id-1 div.sk-label-container {text-align: center;}#sk-container-id-1 div.sk-container {/* jupyter's `normalize.less` sets `[hidden] { display: none; }` but bootstrap.min.css set `[hidden] { display: none !important; }` so we also need the `!important` here to be able to override the default hidden behavior on the sphinx rendered scikit-learn.org. See: https://github.com/scikit-learn/scikit-learn/issues/21755 */display: inline-block !important;position: relative;}#sk-container-id-1 div.sk-text-repr-fallback {display: none;}</style><div id=\"sk-container-id-1\" class=\"sk-top-container\"><div class=\"sk-text-repr-fallback\"><pre>LinearRegression()</pre><b>In a Jupyter environment, please rerun this cell to show the HTML representation or trust the notebook. <br />On GitHub, the HTML representation is unable to render, please try loading this page with nbviewer.org.</b></div><div class=\"sk-container\" hidden><div class=\"sk-item\"><div class=\"sk-estimator sk-toggleable\"><input class=\"sk-toggleable__control sk-hidden--visually\" id=\"sk-estimator-id-1\" type=\"checkbox\" checked><label for=\"sk-estimator-id-1\" class=\"sk-toggleable__label sk-toggleable__label-arrow\">LinearRegression</label><div class=\"sk-toggleable__content\"><pre>LinearRegression()</pre></div></div></div></div></div>"
      ],
      "text/plain": [
       "LinearRegression()"
      ]
     },
     "execution_count": 17,
     "metadata": {},
     "output_type": "execute_result"
    }
   ],
   "source": [
    "#Fitting Linear Regression Model\n",
    "model = LinearRegression()\n",
    "model.fit(x_train,y_train)"
   ]
  },
  {
   "cell_type": "code",
   "execution_count": 18,
   "id": "cdf18afd",
   "metadata": {
    "execution": {
     "iopub.execute_input": "2024-10-09T19:26:25.872877Z",
     "iopub.status.busy": "2024-10-09T19:26:25.872454Z",
     "iopub.status.idle": "2024-10-09T19:26:25.884644Z",
     "shell.execute_reply": "2024-10-09T19:26:25.883523Z"
    },
    "papermill": {
     "duration": 0.028325,
     "end_time": "2024-10-09T19:26:25.887154",
     "exception": false,
     "start_time": "2024-10-09T19:26:25.858829",
     "status": "completed"
    },
    "tags": []
   },
   "outputs": [
    {
     "data": {
      "text/plain": [
       "array([-1.11104934, -0.73731649,  0.34966388, -1.24558733, -0.58225447,\n",
       "       -1.51621082, -1.46186095,  0.54771753,  0.76784137, -0.04005748,\n",
       "        1.46907819,  1.25248725,  0.63753968, -1.13564056, -0.93769395,\n",
       "       -1.42064007,  1.15832229, -0.96122464, -0.48142746, -0.83875017,\n",
       "        0.50162628, -1.01990918, -0.81781486,  1.34386638,  1.41116018,\n",
       "       -1.00246719,  0.41291075, -0.97081721,  1.46965617,  0.97493403,\n",
       "        0.08980086, -0.61075094,  0.41766056,  0.60715376,  0.28423978,\n",
       "        0.63790741, -0.81832263, -0.31550721, -0.74817092,  0.8996897 ,\n",
       "        1.16265234, -0.04289372, -0.40414928, -0.15162871, -0.77497574,\n",
       "       -0.32997396, -0.57789187,  0.48526815,  0.57359836,  0.48817888,\n",
       "       -0.8534435 , -1.11463043, -1.36938873, -0.54353545, -0.04602099,\n",
       "       -0.86744334, -0.10614223, -0.63527577, -0.30210861, -0.59732333,\n",
       "        0.31456044,  0.85837454,  0.96504553, -0.57081633,  0.92239883,\n",
       "        0.14468913, -0.21373208,  0.93896719, -0.70339307, -0.68151205,\n",
       "        0.84960354,  0.6478967 ,  0.93012631,  1.44275707, -0.38936793,\n",
       "       -1.01405276,  0.3511003 , -0.80087875,  0.14970453, -1.12147435,\n",
       "       -0.99677064,  0.34290293,  0.20374442, -0.4518829 , -1.39378945,\n",
       "       -0.61060625, -0.47638799, -0.08925381, -0.8400663 ,  1.03882875,\n",
       "       -1.59068014,  0.79951275, -0.70712375, -1.07899048,  0.35366341,\n",
       "        0.72197746,  0.9843575 ,  0.43375804,  0.10126313, -0.65584339,\n",
       "       -0.77678687, -0.0979492 , -1.17187158, -0.85978823,  0.86724907,\n",
       "       -0.81764849, -0.10570161, -0.13476008,  0.28826339,  0.557748  ,\n",
       "       -0.52599268, -0.37167745,  0.31491536, -0.39934878, -0.25032236,\n",
       "        1.42007588,  0.57738271,  0.48076546,  0.77852703, -0.25129516,\n",
       "       -0.76486805, -0.63544487,  0.46498992,  0.47880474,  0.61816136,\n",
       "        0.10814465, -0.82680778,  1.18887457,  0.82078979, -0.62802845,\n",
       "       -1.21122629,  0.66195049,  1.0814313 , -0.61111675, -0.70651214,\n",
       "       -0.29658083,  0.44921626, -0.91915237, -0.6642754 ,  0.49247161,\n",
       "        0.6432661 , -0.15996644,  0.50690473,  1.32164721,  0.76456913,\n",
       "        0.02449083,  0.25043966, -1.20308367, -0.16698615,  1.22437911,\n",
       "        0.47526397, -0.01580145, -1.33849283, -0.29520297,  0.56310126,\n",
       "       -0.39162158, -0.66878269, -0.91590453,  0.85703674,  1.5084787 ,\n",
       "       -0.71739319, -0.61516203, -0.10059194, -0.44430473, -0.85186672,\n",
       "        0.97247873,  1.267726  ,  1.19731119, -0.81946613,  0.56146248,\n",
       "        1.0475827 ,  0.71928129,  0.55946947, -0.97857235, -0.39401992,\n",
       "        1.12890263, -0.70460211, -0.3422364 , -0.13330359, -0.57775179,\n",
       "       -0.51718803, -0.73671411, -0.89771085,  0.8297567 ,  0.40105992,\n",
       "       -0.55863224,  0.74932849, -0.47158315,  0.23791196, -0.08811493,\n",
       "       -0.70906361, -0.24719593,  0.69803328, -0.22814814,  0.29471087,\n",
       "       -1.5753162 , -0.7695526 , -0.3760124 ,  1.14111465, -1.28060111])"
      ]
     },
     "execution_count": 18,
     "metadata": {},
     "output_type": "execute_result"
    }
   ],
   "source": [
    "#The Predicted Values\n",
    "pre = model.predict(x_test)\n",
    "pre"
   ]
  },
  {
   "cell_type": "code",
   "execution_count": 19,
   "id": "8d56e168",
   "metadata": {
    "execution": {
     "iopub.execute_input": "2024-10-09T19:26:25.915061Z",
     "iopub.status.busy": "2024-10-09T19:26:25.914671Z",
     "iopub.status.idle": "2024-10-09T19:26:25.921867Z",
     "shell.execute_reply": "2024-10-09T19:26:25.920630Z"
    },
    "papermill": {
     "duration": 0.025539,
     "end_time": "2024-10-09T19:26:25.924904",
     "exception": false,
     "start_time": "2024-10-09T19:26:25.899365",
     "status": "completed"
    },
    "tags": []
   },
   "outputs": [
    {
     "name": "stdout",
     "output_type": "stream",
     "text": [
      "The Accuracy of Prediction = 56.65 %\n"
     ]
    }
   ],
   "source": [
    "ACC = r2_score(y_test, pre)\n",
    "rounded_ACC = round(ACC * 100, 3) \n",
    "print(f\"The Accuracy of Prediction = {rounded_ACC} %\")"
   ]
  },
  {
   "cell_type": "code",
   "execution_count": null,
   "id": "68e3dc26",
   "metadata": {
    "papermill": {
     "duration": 0.012003,
     "end_time": "2024-10-09T19:26:25.949416",
     "exception": false,
     "start_time": "2024-10-09T19:26:25.937413",
     "status": "completed"
    },
    "tags": []
   },
   "outputs": [],
   "source": []
  }
 ],
 "metadata": {
  "kaggle": {
   "accelerator": "none",
   "dataSources": [
    {
     "datasetId": 4404146,
     "sourceId": 7563601,
     "sourceType": "datasetVersion"
    }
   ],
   "dockerImageVersionId": 30664,
   "isGpuEnabled": false,
   "isInternetEnabled": true,
   "language": "python",
   "sourceType": "notebook"
  },
  "kernelspec": {
   "display_name": "Python 3",
   "language": "python",
   "name": "python3"
  },
  "language_info": {
   "codemirror_mode": {
    "name": "ipython",
    "version": 3
   },
   "file_extension": ".py",
   "mimetype": "text/x-python",
   "name": "python",
   "nbconvert_exporter": "python",
   "pygments_lexer": "ipython3",
   "version": "3.10.13"
  },
  "papermill": {
   "default_parameters": {},
   "duration": 9.891114,
   "end_time": "2024-10-09T19:26:26.583967",
   "environment_variables": {},
   "exception": null,
   "input_path": "__notebook__.ipynb",
   "output_path": "__notebook__.ipynb",
   "parameters": {},
   "start_time": "2024-10-09T19:26:16.692853",
   "version": "2.5.0"
  }
 },
 "nbformat": 4,
 "nbformat_minor": 5
}
